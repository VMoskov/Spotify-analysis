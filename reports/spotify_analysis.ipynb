{
 "cells": [
  {
   "cell_type": "code",
   "execution_count": 1,
   "id": "initial_id",
   "metadata": {
    "collapsed": true,
    "ExecuteTime": {
     "end_time": "2024-02-14T01:22:48.354511Z",
     "start_time": "2024-02-14T01:22:47.877327Z"
    }
   },
   "outputs": [],
   "source": [
    "import numpy as np\n",
    "import pandas as pd\n",
    "import matplotlib.pyplot as plt\n",
    "import os\n",
    "import sys\n",
    "from scripts.data_cleaning import get_data, clean_data, check_missing_values"
   ]
  },
  {
   "cell_type": "markdown",
   "source": [
    "# Load the data"
   ],
   "metadata": {
    "collapsed": false
   },
   "id": "b2e276a20e72a262"
  },
  {
   "cell_type": "code",
   "outputs": [
    {
     "data": {
      "text/plain": "   Unnamed: 0    artist_name        track_name                track_id  \\\n0           0     Jason Mraz   I Won't Give Up  53QF56cjZA9RTuuMZDrSA6   \n1           1     Jason Mraz  93 Million Miles  1s8tP3jP4GZcyHDsjvw218   \n2           2  Joshua Hyslop  Do Not Let Me Go  7BRCa8MPiyuvr2VU3O9W0F   \n3           3   Boyce Avenue          Fast Car  63wsZUhUZLlh1OsyrZq7sz   \n4           4   Andrew Belle  Sky's Still Blue  6nXIYClvJAfi6ujLiKqEq8   \n\n   popularity  year     genre  danceability  energy  key  loudness  mode  \\\n0          68  2012  acoustic         0.483   0.303    4   -10.058     1   \n1          50  2012  acoustic         0.572   0.454    3   -10.286     1   \n2          57  2012  acoustic         0.409   0.234    3   -13.711     1   \n3          58  2012  acoustic         0.392   0.251   10    -9.845     1   \n4          54  2012  acoustic         0.430   0.791    6    -5.419     0   \n\n   speechiness  acousticness  instrumentalness  liveness  valence    tempo  \\\n0       0.0429        0.6940          0.000000    0.1150    0.139  133.406   \n1       0.0258        0.4770          0.000014    0.0974    0.515  140.182   \n2       0.0323        0.3380          0.000050    0.0895    0.145  139.832   \n3       0.0363        0.8070          0.000000    0.0797    0.508  204.961   \n4       0.0302        0.0726          0.019300    0.1100    0.217  171.864   \n\n   duration_ms  time_signature  \n0       240166               3  \n1       216387               4  \n2       158960               4  \n3       304293               4  \n4       244320               4  ",
      "text/html": "<div>\n<style scoped>\n    .dataframe tbody tr th:only-of-type {\n        vertical-align: middle;\n    }\n\n    .dataframe tbody tr th {\n        vertical-align: top;\n    }\n\n    .dataframe thead th {\n        text-align: right;\n    }\n</style>\n<table border=\"1\" class=\"dataframe\">\n  <thead>\n    <tr style=\"text-align: right;\">\n      <th></th>\n      <th>Unnamed: 0</th>\n      <th>artist_name</th>\n      <th>track_name</th>\n      <th>track_id</th>\n      <th>popularity</th>\n      <th>year</th>\n      <th>genre</th>\n      <th>danceability</th>\n      <th>energy</th>\n      <th>key</th>\n      <th>loudness</th>\n      <th>mode</th>\n      <th>speechiness</th>\n      <th>acousticness</th>\n      <th>instrumentalness</th>\n      <th>liveness</th>\n      <th>valence</th>\n      <th>tempo</th>\n      <th>duration_ms</th>\n      <th>time_signature</th>\n    </tr>\n  </thead>\n  <tbody>\n    <tr>\n      <th>0</th>\n      <td>0</td>\n      <td>Jason Mraz</td>\n      <td>I Won't Give Up</td>\n      <td>53QF56cjZA9RTuuMZDrSA6</td>\n      <td>68</td>\n      <td>2012</td>\n      <td>acoustic</td>\n      <td>0.483</td>\n      <td>0.303</td>\n      <td>4</td>\n      <td>-10.058</td>\n      <td>1</td>\n      <td>0.0429</td>\n      <td>0.6940</td>\n      <td>0.000000</td>\n      <td>0.1150</td>\n      <td>0.139</td>\n      <td>133.406</td>\n      <td>240166</td>\n      <td>3</td>\n    </tr>\n    <tr>\n      <th>1</th>\n      <td>1</td>\n      <td>Jason Mraz</td>\n      <td>93 Million Miles</td>\n      <td>1s8tP3jP4GZcyHDsjvw218</td>\n      <td>50</td>\n      <td>2012</td>\n      <td>acoustic</td>\n      <td>0.572</td>\n      <td>0.454</td>\n      <td>3</td>\n      <td>-10.286</td>\n      <td>1</td>\n      <td>0.0258</td>\n      <td>0.4770</td>\n      <td>0.000014</td>\n      <td>0.0974</td>\n      <td>0.515</td>\n      <td>140.182</td>\n      <td>216387</td>\n      <td>4</td>\n    </tr>\n    <tr>\n      <th>2</th>\n      <td>2</td>\n      <td>Joshua Hyslop</td>\n      <td>Do Not Let Me Go</td>\n      <td>7BRCa8MPiyuvr2VU3O9W0F</td>\n      <td>57</td>\n      <td>2012</td>\n      <td>acoustic</td>\n      <td>0.409</td>\n      <td>0.234</td>\n      <td>3</td>\n      <td>-13.711</td>\n      <td>1</td>\n      <td>0.0323</td>\n      <td>0.3380</td>\n      <td>0.000050</td>\n      <td>0.0895</td>\n      <td>0.145</td>\n      <td>139.832</td>\n      <td>158960</td>\n      <td>4</td>\n    </tr>\n    <tr>\n      <th>3</th>\n      <td>3</td>\n      <td>Boyce Avenue</td>\n      <td>Fast Car</td>\n      <td>63wsZUhUZLlh1OsyrZq7sz</td>\n      <td>58</td>\n      <td>2012</td>\n      <td>acoustic</td>\n      <td>0.392</td>\n      <td>0.251</td>\n      <td>10</td>\n      <td>-9.845</td>\n      <td>1</td>\n      <td>0.0363</td>\n      <td>0.8070</td>\n      <td>0.000000</td>\n      <td>0.0797</td>\n      <td>0.508</td>\n      <td>204.961</td>\n      <td>304293</td>\n      <td>4</td>\n    </tr>\n    <tr>\n      <th>4</th>\n      <td>4</td>\n      <td>Andrew Belle</td>\n      <td>Sky's Still Blue</td>\n      <td>6nXIYClvJAfi6ujLiKqEq8</td>\n      <td>54</td>\n      <td>2012</td>\n      <td>acoustic</td>\n      <td>0.430</td>\n      <td>0.791</td>\n      <td>6</td>\n      <td>-5.419</td>\n      <td>0</td>\n      <td>0.0302</td>\n      <td>0.0726</td>\n      <td>0.019300</td>\n      <td>0.1100</td>\n      <td>0.217</td>\n      <td>171.864</td>\n      <td>244320</td>\n      <td>4</td>\n    </tr>\n  </tbody>\n</table>\n</div>"
     },
     "execution_count": 2,
     "metadata": {},
     "output_type": "execute_result"
    }
   ],
   "source": [
    "dataset = get_data(\"../data/spotify_data.csv\")\n",
    "dataset.replace(\"None\", np.nan, inplace=True)\n",
    "dataset.head()"
   ],
   "metadata": {
    "collapsed": false,
    "ExecuteTime": {
     "end_time": "2024-02-14T01:22:50.088715Z",
     "start_time": "2024-02-14T01:22:48.355566Z"
    }
   },
   "id": "dea01253fc103417",
   "execution_count": 2
  },
  {
   "cell_type": "markdown",
   "source": [
    "# Data cleaning"
   ],
   "metadata": {
    "collapsed": false
   },
   "id": "cb752b188dc15588"
  },
  {
   "cell_type": "code",
   "outputs": [
    {
     "name": "stdout",
     "output_type": "stream",
     "text": [
      "<class 'pandas.core.frame.DataFrame'>\n",
      "RangeIndex: 1159764 entries, 0 to 1159763\n",
      "Data columns (total 20 columns):\n",
      " #   Column            Non-Null Count    Dtype  \n",
      "---  ------            --------------    -----  \n",
      " 0   Unnamed: 0        1159764 non-null  int64  \n",
      " 1   artist_name       1159749 non-null  object \n",
      " 2   track_name        1159763 non-null  object \n",
      " 3   track_id          1159764 non-null  object \n",
      " 4   popularity        1159764 non-null  int64  \n",
      " 5   year              1159764 non-null  int64  \n",
      " 6   genre             1159764 non-null  object \n",
      " 7   danceability      1159764 non-null  float64\n",
      " 8   energy            1159764 non-null  float64\n",
      " 9   key               1159764 non-null  int64  \n",
      " 10  loudness          1159764 non-null  float64\n",
      " 11  mode              1159764 non-null  int64  \n",
      " 12  speechiness       1159764 non-null  float64\n",
      " 13  acousticness      1159764 non-null  float64\n",
      " 14  instrumentalness  1159764 non-null  float64\n",
      " 15  liveness          1159764 non-null  float64\n",
      " 16  valence           1159764 non-null  float64\n",
      " 17  tempo             1159764 non-null  float64\n",
      " 18  duration_ms       1159764 non-null  int64  \n",
      " 19  time_signature    1159764 non-null  int64  \n",
      "dtypes: float64(9), int64(7), object(4)\n",
      "memory usage: 177.0+ MB\n"
     ]
    }
   ],
   "source": [
    "dataset.info()"
   ],
   "metadata": {
    "collapsed": false,
    "ExecuteTime": {
     "end_time": "2024-02-14T01:22:50.220251Z",
     "start_time": "2024-02-14T01:22:50.088006Z"
    }
   },
   "id": "7cae86176a57dfac",
   "execution_count": 3
  },
  {
   "cell_type": "code",
   "outputs": [
    {
     "data": {
      "text/plain": "(1159764, 20)"
     },
     "execution_count": 4,
     "metadata": {},
     "output_type": "execute_result"
    }
   ],
   "source": [
    "dataset.shape"
   ],
   "metadata": {
    "collapsed": false,
    "ExecuteTime": {
     "end_time": "2024-02-14T01:22:50.223117Z",
     "start_time": "2024-02-14T01:22:50.220180Z"
    }
   },
   "id": "4dab36a4768c8926",
   "execution_count": 4
  },
  {
   "cell_type": "code",
   "outputs": [
    {
     "name": "stdout",
     "output_type": "stream",
     "text": [
      "There are 16 missing values in the dataset\n"
     ]
    },
    {
     "data": {
      "text/plain": "16"
     },
     "execution_count": 5,
     "metadata": {},
     "output_type": "execute_result"
    }
   ],
   "source": [
    "check_missing_values(dataset)"
   ],
   "metadata": {
    "collapsed": false,
    "ExecuteTime": {
     "end_time": "2024-02-14T01:22:50.337239Z",
     "start_time": "2024-02-14T01:22:50.224663Z"
    }
   },
   "id": "473965fbd7af25dd",
   "execution_count": 5
  },
  {
   "cell_type": "markdown",
   "source": [
    "We can get some descriptive statistics of the dataset"
   ],
   "metadata": {
    "collapsed": false
   },
   "id": "80f695ab25bafd11"
  },
  {
   "cell_type": "code",
   "outputs": [
    {
     "data": {
      "text/plain": "     artist_name        track_name                track_id  popularity  year  \\\n0     Jason Mraz   I Won't Give Up  53QF56cjZA9RTuuMZDrSA6          68  2012   \n1     Jason Mraz  93 Million Miles  1s8tP3jP4GZcyHDsjvw218          50  2012   \n2  Joshua Hyslop  Do Not Let Me Go  7BRCa8MPiyuvr2VU3O9W0F          57  2012   \n3   Boyce Avenue          Fast Car  63wsZUhUZLlh1OsyrZq7sz          58  2012   \n4   Andrew Belle  Sky's Still Blue  6nXIYClvJAfi6ujLiKqEq8          54  2012   \n\n      genre  danceability  energy  key  loudness  mode  speechiness  \\\n0  acoustic         0.483   0.303    4   -10.058     1        0.043   \n1  acoustic         0.572   0.454    3   -10.286     1        0.026   \n2  acoustic         0.409   0.234    3   -13.711     1        0.032   \n3  acoustic         0.392   0.251   10    -9.845     1        0.036   \n4  acoustic         0.430   0.791    6    -5.419     0        0.030   \n\n   acousticness  instrumentalness  liveness  valence   tempo  duration_ms  \\\n0         0.694             0.000     0.115    0.139 133.406       240166   \n1         0.477             0.000     0.097    0.515 140.182       216387   \n2         0.338             0.000     0.089    0.145 139.832       158960   \n3         0.807             0.000     0.080    0.508 204.961       304293   \n4         0.073             0.019     0.110    0.217 171.864       244320   \n\n   time_signature  \n0               3  \n1               4  \n2               4  \n3               4  \n4               4  ",
      "text/html": "<div>\n<style scoped>\n    .dataframe tbody tr th:only-of-type {\n        vertical-align: middle;\n    }\n\n    .dataframe tbody tr th {\n        vertical-align: top;\n    }\n\n    .dataframe thead th {\n        text-align: right;\n    }\n</style>\n<table border=\"1\" class=\"dataframe\">\n  <thead>\n    <tr style=\"text-align: right;\">\n      <th></th>\n      <th>artist_name</th>\n      <th>track_name</th>\n      <th>track_id</th>\n      <th>popularity</th>\n      <th>year</th>\n      <th>genre</th>\n      <th>danceability</th>\n      <th>energy</th>\n      <th>key</th>\n      <th>loudness</th>\n      <th>mode</th>\n      <th>speechiness</th>\n      <th>acousticness</th>\n      <th>instrumentalness</th>\n      <th>liveness</th>\n      <th>valence</th>\n      <th>tempo</th>\n      <th>duration_ms</th>\n      <th>time_signature</th>\n    </tr>\n  </thead>\n  <tbody>\n    <tr>\n      <th>0</th>\n      <td>Jason Mraz</td>\n      <td>I Won't Give Up</td>\n      <td>53QF56cjZA9RTuuMZDrSA6</td>\n      <td>68</td>\n      <td>2012</td>\n      <td>acoustic</td>\n      <td>0.483</td>\n      <td>0.303</td>\n      <td>4</td>\n      <td>-10.058</td>\n      <td>1</td>\n      <td>0.043</td>\n      <td>0.694</td>\n      <td>0.000</td>\n      <td>0.115</td>\n      <td>0.139</td>\n      <td>133.406</td>\n      <td>240166</td>\n      <td>3</td>\n    </tr>\n    <tr>\n      <th>1</th>\n      <td>Jason Mraz</td>\n      <td>93 Million Miles</td>\n      <td>1s8tP3jP4GZcyHDsjvw218</td>\n      <td>50</td>\n      <td>2012</td>\n      <td>acoustic</td>\n      <td>0.572</td>\n      <td>0.454</td>\n      <td>3</td>\n      <td>-10.286</td>\n      <td>1</td>\n      <td>0.026</td>\n      <td>0.477</td>\n      <td>0.000</td>\n      <td>0.097</td>\n      <td>0.515</td>\n      <td>140.182</td>\n      <td>216387</td>\n      <td>4</td>\n    </tr>\n    <tr>\n      <th>2</th>\n      <td>Joshua Hyslop</td>\n      <td>Do Not Let Me Go</td>\n      <td>7BRCa8MPiyuvr2VU3O9W0F</td>\n      <td>57</td>\n      <td>2012</td>\n      <td>acoustic</td>\n      <td>0.409</td>\n      <td>0.234</td>\n      <td>3</td>\n      <td>-13.711</td>\n      <td>1</td>\n      <td>0.032</td>\n      <td>0.338</td>\n      <td>0.000</td>\n      <td>0.089</td>\n      <td>0.145</td>\n      <td>139.832</td>\n      <td>158960</td>\n      <td>4</td>\n    </tr>\n    <tr>\n      <th>3</th>\n      <td>Boyce Avenue</td>\n      <td>Fast Car</td>\n      <td>63wsZUhUZLlh1OsyrZq7sz</td>\n      <td>58</td>\n      <td>2012</td>\n      <td>acoustic</td>\n      <td>0.392</td>\n      <td>0.251</td>\n      <td>10</td>\n      <td>-9.845</td>\n      <td>1</td>\n      <td>0.036</td>\n      <td>0.807</td>\n      <td>0.000</td>\n      <td>0.080</td>\n      <td>0.508</td>\n      <td>204.961</td>\n      <td>304293</td>\n      <td>4</td>\n    </tr>\n    <tr>\n      <th>4</th>\n      <td>Andrew Belle</td>\n      <td>Sky's Still Blue</td>\n      <td>6nXIYClvJAfi6ujLiKqEq8</td>\n      <td>54</td>\n      <td>2012</td>\n      <td>acoustic</td>\n      <td>0.430</td>\n      <td>0.791</td>\n      <td>6</td>\n      <td>-5.419</td>\n      <td>0</td>\n      <td>0.030</td>\n      <td>0.073</td>\n      <td>0.019</td>\n      <td>0.110</td>\n      <td>0.217</td>\n      <td>171.864</td>\n      <td>244320</td>\n      <td>4</td>\n    </tr>\n  </tbody>\n</table>\n</div>"
     },
     "execution_count": 15,
     "metadata": {},
     "output_type": "execute_result"
    }
   ],
   "source": [
    "pd.set_option(\"display.float_format\", \"{:.3f}\".format)\n",
    "dataset.describe()\n",
    "dataset.head()"
   ],
   "metadata": {
    "collapsed": false,
    "ExecuteTime": {
     "end_time": "2024-02-14T01:34:12.226945Z",
     "start_time": "2024-02-14T01:34:11.838446Z"
    }
   },
   "id": "328c2be5d874c5d7",
   "execution_count": 15
  },
  {
   "cell_type": "markdown",
   "source": [
    "we can now remove the missing values\n",
    "we also want to remove the redundant `id` column as it does not provide any useful information"
   ],
   "metadata": {
    "collapsed": false
   },
   "id": "ae020d2142f2f755"
  },
  {
   "cell_type": "markdown",
   "source": [
    "we can see that `loudness` goes up to 6.172, which is not possible according to the Spotify API documentation.\n",
    "\n",
    "we can also see that `time_signature` has a minimum value of 0 while the minimum value should be 3."
   ],
   "metadata": {
    "collapsed": false
   },
   "id": "d5f284e4b00e1c5a"
  },
  {
   "cell_type": "code",
   "outputs": [
    {
     "name": "stdout",
     "output_type": "stream",
     "text": [
      "No missing values in the dataset\n"
     ]
    }
   ],
   "source": [
    "dataset = clean_data(dataset)\n",
    "assert check_missing_values(dataset) == 0"
   ],
   "metadata": {
    "collapsed": false,
    "ExecuteTime": {
     "end_time": "2024-02-14T01:22:51.244440Z",
     "start_time": "2024-02-14T01:22:50.805404Z"
    }
   },
   "id": "a047347630657705",
   "execution_count": 7
  },
  {
   "cell_type": "code",
   "outputs": [
    {
     "data": {
      "text/plain": "       popularity        year  danceability      energy         key  \\\ncount 1144681.000 1144681.000   1144681.000 1144681.000 1144681.000   \nmean       18.419    2011.953         0.540       0.642       5.289   \nstd        15.896       6.803         0.183       0.269       3.555   \nmin         0.000    2000.000         0.022       0.000       0.000   \n25%         5.000    2006.000         0.416       0.458       2.000   \n50%        15.000    2012.000         0.552       0.695       5.000   \n75%        29.000    2018.000         0.678       0.873       8.000   \nmax       100.000    2023.000         0.993       1.000      11.000   \n\n         loudness        mode  speechiness  acousticness  instrumentalness  \\\ncount 1144681.000 1144681.000  1144681.000   1144681.000       1144681.000   \nmean       -8.926       0.634        0.092         0.319             0.251   \nstd         5.598       0.482        0.125         0.353             0.364   \nmin       -58.100       0.000        0.022         0.000             0.000   \n25%       -10.756       0.000        0.037         0.006             0.000   \n50%        -7.425       1.000        0.051         0.144             0.002   \n75%        -5.270       1.000        0.089         0.632             0.606   \nmax         0.000       1.000        0.970         0.996             1.000   \n\n         liveness     valence       tempo  duration_ms  time_signature  \ncount 1144681.000 1144681.000 1144681.000  1144681.000     1144681.000  \nmean        0.223       0.458     121.619   250022.154           3.922  \nstd         0.201       0.268      29.509   148231.968           0.335  \nmin         0.006       0.000      30.766    15000.000           3.000  \n25%         0.098       0.229      99.021   181707.000           4.000  \n50%         0.134       0.440     121.990   226080.000           4.000  \n75%         0.291       0.675     139.930   287200.000           4.000  \nmax         1.000       1.000     249.993  6000461.000           5.000  ",
      "text/html": "<div>\n<style scoped>\n    .dataframe tbody tr th:only-of-type {\n        vertical-align: middle;\n    }\n\n    .dataframe tbody tr th {\n        vertical-align: top;\n    }\n\n    .dataframe thead th {\n        text-align: right;\n    }\n</style>\n<table border=\"1\" class=\"dataframe\">\n  <thead>\n    <tr style=\"text-align: right;\">\n      <th></th>\n      <th>popularity</th>\n      <th>year</th>\n      <th>danceability</th>\n      <th>energy</th>\n      <th>key</th>\n      <th>loudness</th>\n      <th>mode</th>\n      <th>speechiness</th>\n      <th>acousticness</th>\n      <th>instrumentalness</th>\n      <th>liveness</th>\n      <th>valence</th>\n      <th>tempo</th>\n      <th>duration_ms</th>\n      <th>time_signature</th>\n    </tr>\n  </thead>\n  <tbody>\n    <tr>\n      <th>count</th>\n      <td>1144681.000</td>\n      <td>1144681.000</td>\n      <td>1144681.000</td>\n      <td>1144681.000</td>\n      <td>1144681.000</td>\n      <td>1144681.000</td>\n      <td>1144681.000</td>\n      <td>1144681.000</td>\n      <td>1144681.000</td>\n      <td>1144681.000</td>\n      <td>1144681.000</td>\n      <td>1144681.000</td>\n      <td>1144681.000</td>\n      <td>1144681.000</td>\n      <td>1144681.000</td>\n    </tr>\n    <tr>\n      <th>mean</th>\n      <td>18.419</td>\n      <td>2011.953</td>\n      <td>0.540</td>\n      <td>0.642</td>\n      <td>5.289</td>\n      <td>-8.926</td>\n      <td>0.634</td>\n      <td>0.092</td>\n      <td>0.319</td>\n      <td>0.251</td>\n      <td>0.223</td>\n      <td>0.458</td>\n      <td>121.619</td>\n      <td>250022.154</td>\n      <td>3.922</td>\n    </tr>\n    <tr>\n      <th>std</th>\n      <td>15.896</td>\n      <td>6.803</td>\n      <td>0.183</td>\n      <td>0.269</td>\n      <td>3.555</td>\n      <td>5.598</td>\n      <td>0.482</td>\n      <td>0.125</td>\n      <td>0.353</td>\n      <td>0.364</td>\n      <td>0.201</td>\n      <td>0.268</td>\n      <td>29.509</td>\n      <td>148231.968</td>\n      <td>0.335</td>\n    </tr>\n    <tr>\n      <th>min</th>\n      <td>0.000</td>\n      <td>2000.000</td>\n      <td>0.022</td>\n      <td>0.000</td>\n      <td>0.000</td>\n      <td>-58.100</td>\n      <td>0.000</td>\n      <td>0.022</td>\n      <td>0.000</td>\n      <td>0.000</td>\n      <td>0.006</td>\n      <td>0.000</td>\n      <td>30.766</td>\n      <td>15000.000</td>\n      <td>3.000</td>\n    </tr>\n    <tr>\n      <th>25%</th>\n      <td>5.000</td>\n      <td>2006.000</td>\n      <td>0.416</td>\n      <td>0.458</td>\n      <td>2.000</td>\n      <td>-10.756</td>\n      <td>0.000</td>\n      <td>0.037</td>\n      <td>0.006</td>\n      <td>0.000</td>\n      <td>0.098</td>\n      <td>0.229</td>\n      <td>99.021</td>\n      <td>181707.000</td>\n      <td>4.000</td>\n    </tr>\n    <tr>\n      <th>50%</th>\n      <td>15.000</td>\n      <td>2012.000</td>\n      <td>0.552</td>\n      <td>0.695</td>\n      <td>5.000</td>\n      <td>-7.425</td>\n      <td>1.000</td>\n      <td>0.051</td>\n      <td>0.144</td>\n      <td>0.002</td>\n      <td>0.134</td>\n      <td>0.440</td>\n      <td>121.990</td>\n      <td>226080.000</td>\n      <td>4.000</td>\n    </tr>\n    <tr>\n      <th>75%</th>\n      <td>29.000</td>\n      <td>2018.000</td>\n      <td>0.678</td>\n      <td>0.873</td>\n      <td>8.000</td>\n      <td>-5.270</td>\n      <td>1.000</td>\n      <td>0.089</td>\n      <td>0.632</td>\n      <td>0.606</td>\n      <td>0.291</td>\n      <td>0.675</td>\n      <td>139.930</td>\n      <td>287200.000</td>\n      <td>4.000</td>\n    </tr>\n    <tr>\n      <th>max</th>\n      <td>100.000</td>\n      <td>2023.000</td>\n      <td>0.993</td>\n      <td>1.000</td>\n      <td>11.000</td>\n      <td>0.000</td>\n      <td>1.000</td>\n      <td>0.970</td>\n      <td>0.996</td>\n      <td>1.000</td>\n      <td>1.000</td>\n      <td>1.000</td>\n      <td>249.993</td>\n      <td>6000461.000</td>\n      <td>5.000</td>\n    </tr>\n  </tbody>\n</table>\n</div>"
     },
     "execution_count": 8,
     "metadata": {},
     "output_type": "execute_result"
    }
   ],
   "source": [
    "dataset.head()\n",
    "dataset.describe()"
   ],
   "metadata": {
    "collapsed": false,
    "ExecuteTime": {
     "end_time": "2024-02-14T01:22:51.660291Z",
     "start_time": "2024-02-14T01:22:51.250612Z"
    }
   },
   "id": "4e06c8c52cb61e85",
   "execution_count": 8
  },
  {
   "cell_type": "markdown",
   "source": [
    "We can now get some more insights from the dataset"
   ],
   "metadata": {
    "collapsed": false
   },
   "id": "4bc1654e2cb154c8"
  },
  {
   "cell_type": "code",
   "outputs": [
    {
     "data": {
      "text/plain": "track_id       1144681\nartist_name      64017\ngenre               82\nName: unique_values, dtype: int64"
     },
     "execution_count": 14,
     "metadata": {},
     "output_type": "execute_result"
    }
   ],
   "source": [
    "dataset[[\"track_id\", \"artist_name\", \"genre\"]].nunique().rename(\"unique_values\")"
   ],
   "metadata": {
    "collapsed": false,
    "ExecuteTime": {
     "end_time": "2024-02-14T01:31:02.395781Z",
     "start_time": "2024-02-14T01:31:02.121630Z"
    }
   },
   "id": "16d00e85fdf300f5",
   "execution_count": 14
  },
  {
   "cell_type": "markdown",
   "source": [
    "We can see that there are over 1 million unique tracks in the dataset, with over 60,000 unique artists and 82 unique genres"
   ],
   "metadata": {
    "collapsed": false
   },
   "id": "d3140a1866b91745"
  },
  {
   "cell_type": "markdown",
   "source": [
    "# Data visualization\n",
    "\n",
    "We can now visualize the data to get some more insights\n",
    "\n",
    "Let's start by analyzing the trend of the number of tracks released over the years"
   ],
   "metadata": {
    "collapsed": false
   },
   "id": "cc3d625a3ef67071"
  },
  {
   "cell_type": "code",
   "outputs": [],
   "source": [],
   "metadata": {
    "collapsed": false
   },
   "id": "4d9fd52d1200af03"
  }
 ],
 "metadata": {
  "kernelspec": {
   "display_name": "Python 3",
   "language": "python",
   "name": "python3"
  },
  "language_info": {
   "codemirror_mode": {
    "name": "ipython",
    "version": 2
   },
   "file_extension": ".py",
   "mimetype": "text/x-python",
   "name": "python",
   "nbconvert_exporter": "python",
   "pygments_lexer": "ipython2",
   "version": "2.7.6"
  }
 },
 "nbformat": 4,
 "nbformat_minor": 5
}
